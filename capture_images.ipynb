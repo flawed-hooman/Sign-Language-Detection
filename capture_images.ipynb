{
 "cells": [
  {
   "cell_type": "code",
   "execution_count": 3,
   "id": "500733fb-aaf2-4646-a9f3-3fb3e9e6fc1d",
   "metadata": {},
   "outputs": [],
   "source": [
    "import cv2\n",
    "import os\n",
    "import uuid\n",
    "import time\n",
    "import matplotlib.pyplot as plt\n",
    "from IPython.display import display, clear_output\n",
    "import ipywidgets as widgets\n"
   ]
  },
  {
   "cell_type": "code",
   "execution_count": 4,
   "id": "368dbd92-5152-4544-813d-0cd015e1aa4b",
   "metadata": {},
   "outputs": [],
   "source": [
    "IMAGES_PATH= 'Tensorflow/workspace/images/image_collection'"
   ]
  },
  {
   "cell_type": "code",
   "execution_count": 5,
   "id": "9304b389-9d19-4993-8f77-1c954dc343d2",
   "metadata": {},
   "outputs": [],
   "source": [
    "labels= ['hello','thank you','yes','no','iloveyou']\n",
    "num_imgs=15"
   ]
  },
  {
   "cell_type": "code",
   "execution_count": 7,
   "id": "ce849b4f-b4c9-471c-a4b0-c7b724588907",
   "metadata": {},
   "outputs": [
    {
     "name": "stdout",
     "output_type": "stream",
     "text": [
      "Collecting images for 'hello'\n",
      "Saved: Tensorflow/workspace/images/image_collection/hello/hello.015ea3e8-fcc1-11ef-8a7f-497482b7f4d3.jpg\n",
      "Saved: Tensorflow/workspace/images/image_collection/hello/hello.02950f04-fcc1-11ef-8a7f-497482b7f4d3.jpg\n",
      "Saved: Tensorflow/workspace/images/image_collection/hello/hello.03c84170-fcc1-11ef-8a7f-497482b7f4d3.jpg\n",
      "Saved: Tensorflow/workspace/images/image_collection/hello/hello.04fb9678-fcc1-11ef-8a7f-497482b7f4d3.jpg\n",
      "Saved: Tensorflow/workspace/images/image_collection/hello/hello.062ee522-fcc1-11ef-8a7f-497482b7f4d3.jpg\n",
      "Saved: Tensorflow/workspace/images/image_collection/hello/hello.07621658-fcc1-11ef-8a7f-497482b7f4d3.jpg\n",
      "Saved: Tensorflow/workspace/images/image_collection/hello/hello.089552ce-fcc1-11ef-8a7f-497482b7f4d3.jpg\n",
      "Saved: Tensorflow/workspace/images/image_collection/hello/hello.09c8aefc-fcc1-11ef-8a7f-497482b7f4d3.jpg\n",
      "Saved: Tensorflow/workspace/images/image_collection/hello/hello.0afbeaaa-fcc1-11ef-8a7f-497482b7f4d3.jpg\n"
     ]
    },
    {
     "ename": "KeyboardInterrupt",
     "evalue": "",
     "output_type": "error",
     "traceback": [
      "\u001b[0;31m---------------------------------------------------------------------------\u001b[0m",
      "\u001b[0;31mKeyboardInterrupt\u001b[0m                         Traceback (most recent call last)",
      "Cell \u001b[0;32mIn[7], line 24\u001b[0m\n\u001b[1;32m     22\u001b[0m cv2\u001b[38;5;241m.\u001b[39mimshow(\u001b[38;5;124m'\u001b[39m\u001b[38;5;124mframes\u001b[39m\u001b[38;5;124m'\u001b[39m, frame)\n\u001b[1;32m     23\u001b[0m \u001b[38;5;28mprint\u001b[39m(\u001b[38;5;124mf\u001b[39m\u001b[38;5;124m\"\u001b[39m\u001b[38;5;124mSaved: \u001b[39m\u001b[38;5;132;01m{\u001b[39;00mimgname\u001b[38;5;132;01m}\u001b[39;00m\u001b[38;5;124m\"\u001b[39m)\n\u001b[0;32m---> 24\u001b[0m \u001b[43mtime\u001b[49m\u001b[38;5;241;43m.\u001b[39;49m\u001b[43msleep\u001b[49m\u001b[43m(\u001b[49m\u001b[38;5;241;43m2\u001b[39;49m\u001b[43m)\u001b[49m\n\u001b[1;32m     26\u001b[0m \u001b[38;5;66;03m# Wait 1ms and allow keypress to quit early if needed\u001b[39;00m\n\u001b[1;32m     27\u001b[0m \u001b[38;5;28;01mif\u001b[39;00m cv2\u001b[38;5;241m.\u001b[39mwaitKey(\u001b[38;5;241m1\u001b[39m) \u001b[38;5;241m&\u001b[39m \u001b[38;5;241m0xFF\u001b[39m \u001b[38;5;241m==\u001b[39m \u001b[38;5;28mord\u001b[39m(\u001b[38;5;124m'\u001b[39m\u001b[38;5;124mq\u001b[39m\u001b[38;5;124m'\u001b[39m):\n",
      "\u001b[0;31mKeyboardInterrupt\u001b[0m: "
     ]
    }
   ],
   "source": [
    "cap = cv2.VideoCapture(0)\n",
    "\n",
    "if not cap.isOpened():\n",
    "    print(\"Could not access camera.\")\n",
    "    exit()\n",
    "\n",
    "for label in labels:\n",
    "    label_dir = os.path.join(IMAGES_PATH, label)\n",
    "    os.makedirs(label_dir, exist_ok=True)\n",
    "    \n",
    "    print(f\"Collecting images for '{label}'\")\n",
    "    time.sleep(5)\n",
    "\n",
    "    for img_num in range(num_imgs):\n",
    "        ret, frame = cap.read()\n",
    "        if not ret:\n",
    "            print(\"Failed to grab frame.\")\n",
    "            break\n",
    "\n",
    "        imgname = os.path.join(label_dir, f'{label}.{str(uuid.uuid1())}.jpg')\n",
    "        cv2.imwrite(imgname, frame)\n",
    "        cv2.imshow('frames', frame)\n",
    "        print(f\"Saved: {imgname}\")\n",
    "        time.sleep(2)\n",
    "\n",
    "        # Wait 1ms and allow keypress to quit early if needed\n",
    "        if cv2.waitKey(1) & 0xFF == ord('q'):\n",
    "            print(\"Early exit triggered.\")\n",
    "            break\n",
    "\n",
    "        # time.sleep(1)  # Capture delay\n",
    "\n",
    "# Clean up\n",
    "cap.release()\n",
    "cv2.destroyAllWindows()\n"
   ]
  },
  {
   "cell_type": "code",
   "execution_count": 8,
   "id": "938e2726-e540-4512-b96a-3324566411ef",
   "metadata": {},
   "outputs": [],
   "source": [
    "    cap.release()"
   ]
  },
  {
   "cell_type": "code",
   "execution_count": null,
   "id": "ea007de5-84e1-4dc2-b077-2fa1dfea4efe",
   "metadata": {},
   "outputs": [],
   "source": []
  }
 ],
 "metadata": {
  "kernelspec": {
   "display_name": "Python 3 (ipykernel)",
   "language": "python",
   "name": "python3"
  },
  "language_info": {
   "codemirror_mode": {
    "name": "ipython",
    "version": 3
   },
   "file_extension": ".py",
   "mimetype": "text/x-python",
   "name": "python",
   "nbconvert_exporter": "python",
   "pygments_lexer": "ipython3",
   "version": "3.10.12"
  }
 },
 "nbformat": 4,
 "nbformat_minor": 5
}
